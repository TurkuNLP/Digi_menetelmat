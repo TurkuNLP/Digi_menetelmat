{
 "cells": [
  {
   "cell_type": "markdown",
   "metadata": {},
   "source": [
    "# Query the index for threads and topics\n",
    "\n",
    "## Prerequisites\n",
    "\n",
    "* Enable **port forwarding** from port 23456 to port localhost:23456\n",
    "* Point your browser to **http://localhost:23456**\n",
    "* You will see the default Solr interface\n",
    "\n",
    "## Basic querying\n",
    "\n",
    "* Select \"s24_top\" from *Core selector*\n",
    "* Click *Query*\n",
    "* Click *Execute Query\" on the bottom of the screen\n",
    "\n",
    "* This returns all documents, since we searched for everything (\\*:\\* in the *q* field). The queries are of the form \"field:query\" (so \\*:\\* means everything in all fields). What fields do we have?\n",
    "\n",
    "* **id** thread ID in Suomi24\n",
    "* **thread_txt_fi** the text of the thread\n",
    "* **date_dt** the date of the first post\n",
    "* **best1_s** the highest-scoring topic for this thread\n",
    "* **best1_f** the probability of the best scoring topic\n",
    "* **bestN_ss** few highest_scoring topics\n",
    "* **s24_area_s** and **s24_subarea_s** S24 sections\n",
    "\n",
    "*Topic names* \n",
    "[http://localhost:23456/solr/s24_top/select?stats=on&stats.field=best1_s&rows=0&stats.calcdistinct=true&q=*:*] (defined originally in file `top_names_50_400k.txt`)\n",
    "\n",
    "## Querying for topics and sorting\n",
    "\n",
    "* **best1_s:työ** gives all documents whose best topic is työ, in no particular order\n",
    "* **bestN_ss:remontti** gives all documents for which *remontti* is among the top topics\n",
    "* **+best1_s:raskaus +thread_txt_fi:koira** gives all documents with topic 0 and the word koira in them\n",
    "\n",
    "sorting is easy\n",
    "\n",
    "* **date_dt desc** added to the *sort* field sorts by date, from new to old\n",
    "* **best1_f desc** in the *sort* field, combined with **best1_s:opiskelu** finds the most representative threads for topic opiskelu.\n",
    "\n",
    "Full query language documentation: http://www.solrtutorial.com/solr-query-syntax.html\n",
    "\n",
    "## Exercice (Solr-sivun kautta)\n",
    "\n",
    "* Etsi kommentteja, joiden todennäköisin topiikki on lemmikki. Lue niitä läpi. Ovatko oikein?\n",
    "* Etsi kommentteja, joissa mainitaan sana lemmikki. Miltä nämä näyttävät?\n",
    "* Etsi kommentteja, joitka edustavat topiikkia lemmikki, mutta eivät ole \"s24_area_s\":ssa Lemmikit. Miltä nämä näyttävät? (poissaoloa etsitään plussan sijaan -merkillä (miinus). Missä muissa S24-palstan osioissa lemmikeistä näytettäisiin puhuttavan? Vai onko topiikkimalli väärässä? Tällöin nämä kommentit eivät oikeasti liity lemmikkeihin\n",
    "* Sorttaa eli järjestä kommentit vielä todennäköisimmästä epätodennäköisimpään (desc). Näyttävätkö kommentit edustavan tätä topiikkia?\n",
    "* Tarkastele vielä kommentteja, joille lemmikki on annettu todennäköisimmäksi, mutta jotka ovat silti epätodennäköisimpiä. Tämän saa järjestämällä toiseen suuntaan eli asc. Miltä nämä näyttävät? Vielä nämä käsittelevät lemmikkejä? Mitä muita topiikkeja näille kommenteille on bestN_ss -kentässä annettu?\n",
    "* Saman saa tehdä myös jollekin muulle aihepiirille kuin lemmikeille...\n"
   ]
  },
  {
   "cell_type": "markdown",
   "metadata": {},
   "source": [
    "# Topic distribution in S24\n",
    "\n",
    "* We can query (programmatically) each topic in a row, and ask how many hits we've got\n",
    "* Then we can sort by which topics are largest\n",
    "\n",
    "This needs a bit of Python:\n"
   ]
  },
  {
   "cell_type": "code",
   "execution_count": 2,
   "metadata": {},
   "outputs": [
    {
     "name": "stdout",
     "output_type": "stream",
     "text": [
      "Found this many: 43927\n",
      "Here they are: [{'id': '13680991', 'best1_s': 'ulkopolitiikka_sota_nato'}, {'id': '13680981', 'best1_s': 'roska_6'}, {'id': '13680971', 'best1_s': 'perhe_suhteet'}, {'id': '13680961', 'best1_s': 'matkailu'}, {'id': '13680951', 'best1_s': 'matkailu'}, {'id': '13680941', 'best1_s': 'englanti'}, {'id': '13680931', 'best1_s': 'positiivinen_elämä'}, {'id': '13680921', 'best1_s': 'matkailu'}, {'id': '13680911', 'best1_s': 'autohuolto'}, {'id': '13680901', 'best1_s': 'it_hankinta'}]\n"
     ]
    }
   ],
   "source": [
    "import pysolr\n",
    "solr=pysolr.Solr(\"http://localhost:23456/solr/s24_top\")\n",
    "result=solr.search(q=\"*:*\",sort=\"date_dt desc\",fl=\"id,best1_s\")\n",
    "print(\"Found this many:\",result.hits)\n",
    "print(\"Here they are:\",result.docs)"
   ]
  },
  {
   "cell_type": "markdown",
   "metadata": {},
   "source": [
    "## Try\n",
    "\n",
    "* You can try this by running: python3 topics.py\n",
    "* Modify the script to search for different things. How can you modify the script so that it will print the results of result2?\n",
    "* If there is too much text to read, use python3 topics.py | less\n",
    "* press q to escape\n",
    "* Try to modify the script so that it prints the most probable comments for a topic. Is the label correct?\n",
    "\n"
   ]
  },
  {
   "cell_type": "code",
   "execution_count": 4,
   "metadata": {},
   "outputs": [
    {
     "name": "stdout",
     "output_type": "stream",
     "text": [
      "topic 0 hits 0\n",
      "topic 1 hits 0\n",
      "topic 2 hits 0\n"
     ]
    }
   ],
   "source": [
    "# Must be modified to use topics from \n",
    "# http://localhost:23456/solr/s24_top/select?stats=on&stats.field=best1_s&rows=0&stats.calcdistinct=true&q=*:*\n",
    "# this is to be done\n",
    "for topic_id in range(3):\n",
    "    response=solr.search(\"best1_s:t_{}\".format(topic_id))\n",
    "    print(\"topic\",topic_id,\"hits\",response.hits)"
   ]
  }
 ],
 "metadata": {
  "kernelspec": {
   "display_name": "Python 3",
   "language": "python",
   "name": "python3"
  },
  "language_info": {
   "codemirror_mode": {
    "name": "ipython",
    "version": 3
   },
   "file_extension": ".py",
   "mimetype": "text/x-python",
   "name": "python",
   "nbconvert_exporter": "python",
   "pygments_lexer": "ipython3",
   "version": "3.5.2"
  }
 },
 "nbformat": 4,
 "nbformat_minor": 2
}

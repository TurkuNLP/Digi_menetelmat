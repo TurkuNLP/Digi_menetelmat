{
 "cells": [
  {
   "cell_type": "code",
   "execution_count": 16,
   "metadata": {
    "collapsed": false
   },
   "outputs": [
    {
     "name": "stdout",
     "output_type": "stream",
     "text": [
      "\r\n",
      "doc_id:1  Krapi  Tuusulanjärven kulttuurimaiseman ytimessä sijaitseva perinteikäs ja palveleva hotelli- ja ravintolakokonaisuus tarjoaa ryhmällesi upeat puitteet tapahtumien järjestämiseen ympäri vuoden .  Täyden palvelun paikasta löydät kaikki tasokkaat palvelut : ravintolat , saunat , hotelli sekä ohjelmapalvelut .  Suuri ja puistomainen piha-alue mahdollistaa suurenkin ryhmän aktiivisen päivän "
     ]
    }
   ],
   "source": [
    "./return_doc.sh 1"
   ]
  },
  {
   "cell_type": "code",
   "execution_count": 20,
   "metadata": {
    "collapsed": false
   },
   "outputs": [
    {
     "name": "stdout",
     "output_type": "stream",
     "text": [
      "0.90 66618                  \r\n",
      "0.90 9013                   \r\n",
      "0.89 53953                  \r\n",
      "0.89 10752                  \r\n",
      "0.88 16267                  \r\n",
      "0.88 8662                   \r\n",
      "0.88 56472                  \r\n",
      "0.88 42679                  \r\n",
      "0.88 8934                   \r\n",
      "0.88 20897                  \r\n",
      "\r\n",
      "\r\n"
     ]
    }
   ],
   "source": [
    "echo \"1\" | python3 print_nearest_doc.py data.vectors"
   ]
  },
  {
   "cell_type": "code",
   "execution_count": 17,
   "metadata": {
    "collapsed": false
   },
   "outputs": [
    {
     "name": "stdout",
     "output_type": "stream",
     "text": [
      "\r\n",
      "doc_id:66618  Kirjokiven Kartano  1890-luvun lopulla rakennettu Kirjokiven Kartano sijaitsee Pohjois-Valkealassa , kalaisan Tihvet-järven rannalla .  Kartano on erinomainen paikka myös kokousten järjestämiseen .  Päärakennuksessa on 3 salia , tilat n . 60 hengelle .  Nettiyhteys , langaton verkko , videotykki ja muut tarvittavat välineet . "
     ]
    }
   ],
   "source": [
    "./return_doc.sh 66618"
   ]
  },
  {
   "cell_type": "code",
   "execution_count": 21,
   "metadata": {
    "collapsed": false
   },
   "outputs": [
    {
     "name": "stdout",
     "output_type": "stream",
     "text": [
      "\r\n",
      "doc_id:9013  NYKYAIKAINEN HOTELLIRAVINTOLA LUONNON ELÄMYKSIEN KESKELLÄ  Rekihovin idyllisessä ympäristössä voit järjestää erilaisia tapahtumia ; häitä , sukujuhlia tai vaikkapa leirin .  Modernit tilat palveluineen soveltuvat erinomaisesti myös koulutuksien ja kokouksien järjestämiseen .  Herkullinen ruoka , tilava sauna-osasto sekä monipuolinen kuntosali ovat olennainen osa palveluitamme .  "
     ]
    }
   ],
   "source": [
    "./return_doc.sh 9013"
   ]
  },
  {
   "cell_type": "code",
   "execution_count": 22,
   "metadata": {
    "collapsed": false
   },
   "outputs": [
    {
     "name": "stdout",
     "output_type": "stream",
     "text": [
      "\r\n",
      "doc_id:2  Arkisto joulukuu 18th , 2011  n / a muovipulloon caps + 16 Akryyliväri värit + pari Perl-komentosarjoja + 6 kuukautta arvoinen työn = Vaihe 1. Materiaalit Ensinnäkin vakuuttaa alkaa kerätä muovipulloon caps koko perheelle .  Jotta jopa hauskempaa asioita , Älä kerro niitä miksi ne kerätään "
     ]
    }
   ],
   "source": [
    "./return_doc.sh 2"
   ]
  },
  {
   "cell_type": "code",
   "execution_count": 5,
   "metadata": {
    "collapsed": false
   },
   "outputs": [
    {
     "name": "stdout",
     "output_type": "stream",
     "text": [
      "0.85 86849                  \r\n",
      "0.85 61650                  \r\n",
      "0.84 20471                  \r\n",
      "0.84 64773                  \r\n",
      "0.84 39909                  \r\n",
      "0.84 9767                   \r\n",
      "0.84 74787                  \r\n",
      "0.84 22983                  \r\n",
      "0.83 95231                  \r\n",
      "0.83 23524                  \r\n",
      "\r\n",
      "\r\n"
     ]
    }
   ],
   "source": [
    "echo \"2\" | python3 print_nearest_doc.py data.vectors"
   ]
  },
  {
   "cell_type": "code",
   "execution_count": 6,
   "metadata": {
    "collapsed": false
   },
   "outputs": [
    {
     "name": "stdout",
     "output_type": "stream",
     "text": [
      "egrep: write error\r\n",
      "doc_id:86849  Vaihe 1. Tarvittavat työkalut  Vaihe 2. Lataa malli  Lataa PDF-mallin kuvan esikatselu-ruudun alla olevaa linkkiä .  Tulostaa ja leikata pois kahdentoista kuukauden .  Tavallinen paperi toimii hyvin , mutta painoiset , kokonaisen kennon paperin pysyy tasainen paremmin .  Vaiheessa 3. Ensimmäinen taitto  "
     ]
    }
   ],
   "source": [
    "./return_doc.sh 86849"
   ]
  },
  {
   "cell_type": "code",
   "execution_count": 8,
   "metadata": {
    "collapsed": false
   },
   "outputs": [
    {
     "name": "stdout",
     "output_type": "stream",
     "text": [
      "doc_id:61650  Arkisto elokuu 1st , 2011  Kun näin minun talossani , I fell in love kanssa etuosa kuistilla , joka kulkee pitkin koko etupuolella .  On valtava ( noin 8 ' x 35' ) ja mainiosti kuistilla vauhdissa .  Olen hiukset alle 6' 2 , ja "
     ]
    }
   ],
   "source": [
    "./return_doc.sh 61650"
   ]
  }
 ],
 "metadata": {
  "kernelspec": {
   "display_name": "Bash",
   "language": "bash",
   "name": "bash"
  },
  "language_info": {
   "codemirror_mode": "shell",
   "file_extension": ".sh",
   "mimetype": "text/x-sh",
   "name": "bash"
  }
 },
 "nbformat": 4,
 "nbformat_minor": 0
}

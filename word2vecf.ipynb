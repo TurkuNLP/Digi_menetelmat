{
 "cells": [
  {
   "cell_type": "code",
   "execution_count": null,
   "metadata": {
    "collapsed": true
   },
   "outputs": [],
   "source": [
    "python3 print_nearest_doc.py data.vectors "
   ]
  },
  {
   "cell_type": "code",
   "execution_count": 16,
   "metadata": {
    "collapsed": false
   },
   "outputs": [
    {
     "name": "stdout",
     "output_type": "stream",
     "text": [
      "\r\n",
      "doc_id:1  Krapi  Tuusulanjärven kulttuurimaiseman ytimessä sijaitseva perinteikäs ja palveleva hotelli- ja ravintolakokonaisuus tarjoaa ryhmällesi upeat puitteet tapahtumien järjestämiseen ympäri vuoden .  Täyden palvelun paikasta löydät kaikki tasokkaat palvelut : ravintolat , saunat , hotelli sekä ohjelmapalvelut .  Suuri ja puistomainen piha-alue mahdollistaa suurenkin ryhmän aktiivisen päivän "
     ]
    }
   ],
   "source": [
    "./return_doc.sh 1"
   ]
  },
  {
   "cell_type": "code",
   "execution_count": 17,
   "metadata": {
    "collapsed": false
   },
   "outputs": [
    {
     "name": "stdout",
     "output_type": "stream",
     "text": [
      "\r\n",
      "doc_id:66618  Kirjokiven Kartano  1890-luvun lopulla rakennettu Kirjokiven Kartano sijaitsee Pohjois-Valkealassa , kalaisan Tihvet-järven rannalla .  Kartano on erinomainen paikka myös kokousten järjestämiseen .  Päärakennuksessa on 3 salia , tilat n . 60 hengelle .  Nettiyhteys , langaton verkko , videotykki ja muut tarvittavat välineet . "
     ]
    }
   ],
   "source": [
    "./return_doc.sh 66618"
   ]
  }
 ],
 "metadata": {
  "kernelspec": {
   "display_name": "Bash",
   "language": "bash",
   "name": "bash"
  },
  "language_info": {
   "codemirror_mode": "shell",
   "file_extension": ".sh",
   "mimetype": "text/x-sh",
   "name": "bash"
  }
 },
 "nbformat": 4,
 "nbformat_minor": 0
}

{
 "cells": [
  {
   "cell_type": "markdown",
   "metadata": {},
   "source": [
    "# Query the index for threads and topics\n",
    "\n",
    "## Prerequisites\n",
    "\n",
    "* Enable **port forwarding** from port 23456 to port localhost:23456\n",
    "* Point your browser to **http://localhost:23456**\n",
    "* You will see the default Solr interface\n",
    "\n",
    "## Basic querying\n",
    "\n",
    "* Select \"s24_top\" from *Core selector*\n",
    "* Click *Query*\n",
    "* Click *Execute Query\" on the bottom of the screen\n",
    "\n",
    "* This returns all documents, since we searched for everything (\\*:\\* in the *q* field). The queries are of the form \"field:query\" (so \\*:\\* means everything in all fields). What fields do we have?\n",
    "\n",
    "* **id** thread ID in Suomi24\n",
    "* **thread_txt_fi** the text of the thread\n",
    "* **date_tdt** the date of the first post\n",
    "* **best1_s** the highest-scoring topic for this thread\n",
    "* **best1_f** the probability of the best scoring topic\n",
    "* **bestN_ss** few highest_scoring topics\n",
    "* **s24_area_s** and **s24_subarea_s** S24 sections\n",
    "\n",
    "*Topic names* \n",
    "[http://localhost:23456/solr/s24_top/select?stats=on&stats.field=best1_s&rows=0&stats.calcdistinct=true&q=*:*] (defined originally in file `top_names_50_400k.txt`)\n",
    "\n",
    "## Querying for topics and sorting\n",
    "\n",
    "* **best1_s:työ** gives all documents whose best topic is työ, in no particular order\n",
    "* **bestN_ss:remontti** gives all documents for which *remontti* is among the top topics\n",
    "* **+best1_s:raskaus +thread_txt_fi:koira** gives all documents with topic 0 and the word koira in them\n",
    "\n",
    "sorting is easy\n",
    "\n",
    "* **date_tdt desc** added to the *sort* field sorts by date, from new to old\n",
    "* **best1_f desc** in the *sort* field, combined with **best1_s:opiskelu** finds the most representative threads for topic opiskelu.\n",
    "\n",
    "Full query language documentation: http://www.solrtutorial.com/solr-query-syntax.html\n",
    "\n",
    "## Exercice (Solr-sivun kautta)\n",
    "\n",
    "* Etsi kommentteja, joiden todennäköisin topiikki on lemmikki. Lue niitä läpi. Ovatko oikein? Mitä muita topiikkeja näihin liittyy?\n",
    "* Etsi kommentteja, joissa mainitaan sana lemmikki. Miltä nämä näyttävät?\n",
    "* Etsi kommentteja, joitka edustavat topiikkia lemmikki, mutta eivät ole \"s24_area_s\":ssa Lemmikit. Miltä nämä näyttävät? (poissaoloa etsitään plussan sijaan -merkillä (miinus). Missä muissa S24-palstan osioissa lemmikeistä näytettäisiin puhuttavan? Vai onko topiikkimalli väärässä? Tällöin nämä kommentit eivät oikeasti liity lemmikkeihin\n",
    "* Etsi vielä kommentteja, jotka edustavat topiikkia lemmikki, mutta joissa ei ole sanaa lemmikki. Miltä nämä näyttävät? Mistä näissä puhutaan?\n",
    "* Ota sitten joku sana, joka edustaa jotain ajankohtaista aihetta. Se voi olla urheilusta, politiikasta, musiikista... Etsi kommentteja, joissa on tämä sana. \n",
    "* Sorttaa eli järjestä kommentit vielä uusimmasta vanhempaan. Lue muutama kommentti. Tee sitten sama toisin päin, vanhemmasta uudempaan. Näyttävätkö kommentit erilaisilta?\n",
    "* Saman saa tehdä myös jollekin muulle aihepiirille kuin lemmikeille...\n"
   ]
  },
  {
   "cell_type": "markdown",
   "metadata": {},
   "source": [
    "# Topic distribution in S24\n",
    "\n",
    "* We can query (programmatically) each topic in a row, and ask how many hits we've got\n",
    "* Then we can sort by which topics are largest\n",
    "\n",
    "This needs a bit of Python:\n"
   ]
  },
  {
   "cell_type": "code",
   "execution_count": 6,
   "metadata": {},
   "outputs": [
    {
     "name": "stdout",
     "output_type": "stream",
     "text": [
      "Found this many: 620721\n",
      "Here they are: [{'best1_s': 'työ'}, {'best1_s': 'internet_keskustelu'}, {'best1_s': 'perhe_suhteet'}, {'best1_s': 'talouspolitiikka'}, {'best1_s': 'lemmikki'}, {'best1_s': 'opiskelu'}, {'best1_s': 'koirat'}, {'best1_s': 'perhe_suhteet'}, {'best1_s': 'internet_keskustelu'}, {'best1_s': 'uskonto_filosofia'}]\n"
     ]
    }
   ],
   "source": [
    "import pysolr\n",
    "solr=pysolr.Solr(\"http://localhost:23456/solr/s24_top\")\n",
    "result=solr.search(q=\"*:*\", fl=\"best1_s\")\n",
    "#result2=solr.search(q=\"thread_txt_fi:Turku\", fl=\"best1_s\")\n",
    "print(\"Found this many:\",result.hits)\n",
    "print(\"Here they are:\",result.docs)"
   ]
  },
  {
   "attachments": {},
   "cell_type": "markdown",
   "metadata": {},
   "source": [
    "## Try\n",
    "\n",
    "#### 1)\n",
    "* You can try this by first dowloading the Github repo: git clone https://github.com/TurkuNLP/Digi_menetelmat.git\n",
    "* Type **ls** and you'll see Digi_menetalmat directory. Go there with **cd Digi_menetelmat**\n",
    "* With **ls** again you'll see what all you've got\n",
    "* Type **python3 topics.py** and the program will do what we have above\n",
    "* Modify the script so that it will print you result2\n",
    "* You can open the file with **nano topics.py**\n",
    "* In which S24 sections is Turku discussed?\n",
    "* What to do if you want to read the comments as well?\n",
    "* If there is too much text to read, use **python3 topics.py | less**\n",
    "* press **q** to escape\n",
    "\n",
    "### 2) \n",
    "* Open topics2.py . Read it. What does it do? try to run it. Does it work?\n",
    "* Select a word and modify topics2.py so that it searches for them. How many hits did you get?\n",
    "* Which topics the comments reflect? How can you print also the names of the S24 sections the comments appear in? Some topics vs. S24 sections must conflict. Print some of these comments and read them. Which one was wrong? The topic model or the S24 section?\n",
    "\n",
    "### 3)\n",
    "* Modify topics2.py so that it searches for all comments under a specific topic.\n",
    "* In which S24 sections is it discussed?\n",
    "* Sort the comments from the most probable to the least probable and print the texts. How do the comments look like, is the topic well defined?\n",
    "* Sort from the least probable. How do these look like? Are the topics still correct?\n",
    "* If you have time, try to focus the query to a specific date. This can be done, e.g., with **date_tdt:[2015-01-01T00:00:00Z TO 2016-01-31T00:00:00Z]**\n"
   ]
  }
 ],
 "metadata": {
  "kernelspec": {
   "display_name": "Python 3",
   "language": "python",
   "name": "python3"
  },
  "language_info": {
   "codemirror_mode": {
    "name": "ipython",
    "version": 3
   },
   "file_extension": ".py",
   "mimetype": "text/x-python",
   "name": "python",
   "nbconvert_exporter": "python",
   "pygments_lexer": "ipython3",
   "version": "3.5.2"
  }
 },
 "nbformat": 4,
 "nbformat_minor": 2
}
